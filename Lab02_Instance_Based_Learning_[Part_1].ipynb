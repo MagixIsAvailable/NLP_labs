{
  "nbformat": 4,
  "nbformat_minor": 0,
  "metadata": {
    "colab": {
      "provenance": [],
      "include_colab_link": true
    },
    "kernelspec": {
      "name": "python3",
      "display_name": "Python 3"
    },
    "language_info": {
      "name": "python"
    }
  },
  "cells": [
    {
      "cell_type": "markdown",
      "metadata": {
        "id": "view-in-github",
        "colab_type": "text"
      },
      "source": [
        "<a href=\"https://colab.research.google.com/github/MagixIsAvailable/NLP_labs/blob/main/Lab02_Instance_Based_Learning_%5BPart_1%5D.ipynb\" target=\"_parent\"><img src=\"https://colab.research.google.com/assets/colab-badge.svg\" alt=\"Open In Colab\"/></a>"
      ]
    },
    {
      "cell_type": "markdown",
      "metadata": {
        "id": "NXVBtSgcE9Q3"
      },
      "source": [
        "# Week 2 - Instance-Based Learning\n",
        "\n",
        "##Lab Exercises\n",
        "\n",
        "---\n",
        "\n",
        "<br>\n",
        "\n",
        "###Task 1: Psuedo-Code for the kNN Algorithm\n",
        "\n",
        "As your first task for this week, consider what you have learned from the lecture regarding the kNN algorithm. Use that thinking to write simple psuedo-code for the kNN algorithm for the following problems.\n",
        "\n",
        "<br>\n",
        "\n",
        "####Task 1.1\n",
        "\n",
        "Imagine you are creating an instance-based learner to estimate the prices of new products in a production line. The features describing these products include a list of their components, the cost of these components, and the total cost-to-manufacture. The label is the Recommended Retail Price (RRP) of the product. The owner of the production line has recently revealed a new product, but is not sure what price to recommend. Using your knowledge of kNN, write psuedo-code to describe the process by which the price could be decided based on the **single most similar product** that the production line currently manufactures.\n",
        "\n",
        "<br>\n",
        "\n",
        "####Task 1.2\n",
        "Adapt the psuedo-code that you have written above to demonstrate how the pricing of the new product could be based on **an average of the RRP of the three most similar products** the company currently makes.\n",
        "\n"
      ]
    },
    {
      "cell_type": "markdown",
      "metadata": {
        "id": "QtoV34OiIMfT"
      },
      "source": [
        "####Answers for Task 1.1\n",
        "\n",
        "<br>\n",
        "\n",
        "*Please use this cell to enter your answers for the exercise.*"
      ]
    },
    {
      "cell_type": "markdown",
      "metadata": {
        "id": "VBbb6mc7IY5F"
      },
      "source": [
        "####Answers for Task 1.2\n",
        "\n",
        "<br>\n",
        "\n",
        "*Please use this cell to enter your answers for the exercise.*"
      ]
    },
    {
      "cell_type": "markdown",
      "metadata": {
        "id": "TIIa_V0KIwL-"
      },
      "source": [
        "\n",
        "---\n",
        "\n",
        "##Task 2: Implementing the kNN Algorithm\n",
        "\n",
        "<br>\n",
        "\n",
        "The second task for this week is to implement the kNN algorithm. The next few tasks will talk you through the process of building an implementation using the scikit-learn framework.\n",
        "\n",
        "<br>\n",
        "\n",
        "####Task 2.1: Loading a Dataset\n",
        "\n",
        "The first step will be to load a dataset. Try downloading the iris.data file from the Module Resources link on CampusMoodle, or the following URL: https://archive.ics.uci.edu/ml/datasets/iris.\n",
        "\n",
        "To load the dataset, try the following code. Please note that when you run the code, you will be prompted to select a file from your computer to upload, so make sure that you have fully downloaded the iris dataset before starting."
      ]
    },
    {
      "cell_type": "code",
      "metadata": {
        "colab": {
          "base_uri": "https://localhost:8080/",
          "height": 73
        },
        "id": "49TFF0VcE6M2",
        "outputId": "5a4d36c1-67d6-45bb-d477-7b69c31f2f3f"
      },
      "source": [
        "import pandas as pd #we will use pandas to view data in dataframes\n",
        "import io #io we use to load the data after uploading (as colab uses dictionaries to store uploaded files)\n",
        "from google.colab import files #finally, we import the files package from google.colab framework to be able to upload files\n",
        "\n",
        "uploaded = files.upload() #we then call the upload() function to give us the opportunity to load a file into our script"
      ],
      "execution_count": null,
      "outputs": [
        {
          "output_type": "display_data",
          "data": {
            "text/plain": [
              "<IPython.core.display.HTML object>"
            ],
            "text/html": [
              "\n",
              "     <input type=\"file\" id=\"files-3398c6c8-15a2-4ea6-af60-ef377c4e3b57\" name=\"files[]\" multiple disabled\n",
              "        style=\"border:none\" />\n",
              "     <output id=\"result-3398c6c8-15a2-4ea6-af60-ef377c4e3b57\">\n",
              "      Upload widget is only available when the cell has been executed in the\n",
              "      current browser session. Please rerun this cell to enable.\n",
              "      </output>\n",
              "      <script>// Copyright 2017 Google LLC\n",
              "//\n",
              "// Licensed under the Apache License, Version 2.0 (the \"License\");\n",
              "// you may not use this file except in compliance with the License.\n",
              "// You may obtain a copy of the License at\n",
              "//\n",
              "//      http://www.apache.org/licenses/LICENSE-2.0\n",
              "//\n",
              "// Unless required by applicable law or agreed to in writing, software\n",
              "// distributed under the License is distributed on an \"AS IS\" BASIS,\n",
              "// WITHOUT WARRANTIES OR CONDITIONS OF ANY KIND, either express or implied.\n",
              "// See the License for the specific language governing permissions and\n",
              "// limitations under the License.\n",
              "\n",
              "/**\n",
              " * @fileoverview Helpers for google.colab Python module.\n",
              " */\n",
              "(function(scope) {\n",
              "function span(text, styleAttributes = {}) {\n",
              "  const element = document.createElement('span');\n",
              "  element.textContent = text;\n",
              "  for (const key of Object.keys(styleAttributes)) {\n",
              "    element.style[key] = styleAttributes[key];\n",
              "  }\n",
              "  return element;\n",
              "}\n",
              "\n",
              "// Max number of bytes which will be uploaded at a time.\n",
              "const MAX_PAYLOAD_SIZE = 100 * 1024;\n",
              "\n",
              "function _uploadFiles(inputId, outputId) {\n",
              "  const steps = uploadFilesStep(inputId, outputId);\n",
              "  const outputElement = document.getElementById(outputId);\n",
              "  // Cache steps on the outputElement to make it available for the next call\n",
              "  // to uploadFilesContinue from Python.\n",
              "  outputElement.steps = steps;\n",
              "\n",
              "  return _uploadFilesContinue(outputId);\n",
              "}\n",
              "\n",
              "// This is roughly an async generator (not supported in the browser yet),\n",
              "// where there are multiple asynchronous steps and the Python side is going\n",
              "// to poll for completion of each step.\n",
              "// This uses a Promise to block the python side on completion of each step,\n",
              "// then passes the result of the previous step as the input to the next step.\n",
              "function _uploadFilesContinue(outputId) {\n",
              "  const outputElement = document.getElementById(outputId);\n",
              "  const steps = outputElement.steps;\n",
              "\n",
              "  const next = steps.next(outputElement.lastPromiseValue);\n",
              "  return Promise.resolve(next.value.promise).then((value) => {\n",
              "    // Cache the last promise value to make it available to the next\n",
              "    // step of the generator.\n",
              "    outputElement.lastPromiseValue = value;\n",
              "    return next.value.response;\n",
              "  });\n",
              "}\n",
              "\n",
              "/**\n",
              " * Generator function which is called between each async step of the upload\n",
              " * process.\n",
              " * @param {string} inputId Element ID of the input file picker element.\n",
              " * @param {string} outputId Element ID of the output display.\n",
              " * @return {!Iterable<!Object>} Iterable of next steps.\n",
              " */\n",
              "function* uploadFilesStep(inputId, outputId) {\n",
              "  const inputElement = document.getElementById(inputId);\n",
              "  inputElement.disabled = false;\n",
              "\n",
              "  const outputElement = document.getElementById(outputId);\n",
              "  outputElement.innerHTML = '';\n",
              "\n",
              "  const pickedPromise = new Promise((resolve) => {\n",
              "    inputElement.addEventListener('change', (e) => {\n",
              "      resolve(e.target.files);\n",
              "    });\n",
              "  });\n",
              "\n",
              "  const cancel = document.createElement('button');\n",
              "  inputElement.parentElement.appendChild(cancel);\n",
              "  cancel.textContent = 'Cancel upload';\n",
              "  const cancelPromise = new Promise((resolve) => {\n",
              "    cancel.onclick = () => {\n",
              "      resolve(null);\n",
              "    };\n",
              "  });\n",
              "\n",
              "  // Wait for the user to pick the files.\n",
              "  const files = yield {\n",
              "    promise: Promise.race([pickedPromise, cancelPromise]),\n",
              "    response: {\n",
              "      action: 'starting',\n",
              "    }\n",
              "  };\n",
              "\n",
              "  cancel.remove();\n",
              "\n",
              "  // Disable the input element since further picks are not allowed.\n",
              "  inputElement.disabled = true;\n",
              "\n",
              "  if (!files) {\n",
              "    return {\n",
              "      response: {\n",
              "        action: 'complete',\n",
              "      }\n",
              "    };\n",
              "  }\n",
              "\n",
              "  for (const file of files) {\n",
              "    const li = document.createElement('li');\n",
              "    li.append(span(file.name, {fontWeight: 'bold'}));\n",
              "    li.append(span(\n",
              "        `(${file.type || 'n/a'}) - ${file.size} bytes, ` +\n",
              "        `last modified: ${\n",
              "            file.lastModifiedDate ? file.lastModifiedDate.toLocaleDateString() :\n",
              "                                    'n/a'} - `));\n",
              "    const percent = span('0% done');\n",
              "    li.appendChild(percent);\n",
              "\n",
              "    outputElement.appendChild(li);\n",
              "\n",
              "    const fileDataPromise = new Promise((resolve) => {\n",
              "      const reader = new FileReader();\n",
              "      reader.onload = (e) => {\n",
              "        resolve(e.target.result);\n",
              "      };\n",
              "      reader.readAsArrayBuffer(file);\n",
              "    });\n",
              "    // Wait for the data to be ready.\n",
              "    let fileData = yield {\n",
              "      promise: fileDataPromise,\n",
              "      response: {\n",
              "        action: 'continue',\n",
              "      }\n",
              "    };\n",
              "\n",
              "    // Use a chunked sending to avoid message size limits. See b/62115660.\n",
              "    let position = 0;\n",
              "    do {\n",
              "      const length = Math.min(fileData.byteLength - position, MAX_PAYLOAD_SIZE);\n",
              "      const chunk = new Uint8Array(fileData, position, length);\n",
              "      position += length;\n",
              "\n",
              "      const base64 = btoa(String.fromCharCode.apply(null, chunk));\n",
              "      yield {\n",
              "        response: {\n",
              "          action: 'append',\n",
              "          file: file.name,\n",
              "          data: base64,\n",
              "        },\n",
              "      };\n",
              "\n",
              "      let percentDone = fileData.byteLength === 0 ?\n",
              "          100 :\n",
              "          Math.round((position / fileData.byteLength) * 100);\n",
              "      percent.textContent = `${percentDone}% done`;\n",
              "\n",
              "    } while (position < fileData.byteLength);\n",
              "  }\n",
              "\n",
              "  // All done.\n",
              "  yield {\n",
              "    response: {\n",
              "      action: 'complete',\n",
              "    }\n",
              "  };\n",
              "}\n",
              "\n",
              "scope.google = scope.google || {};\n",
              "scope.google.colab = scope.google.colab || {};\n",
              "scope.google.colab._files = {\n",
              "  _uploadFiles,\n",
              "  _uploadFilesContinue,\n",
              "};\n",
              "})(self);\n",
              "</script> "
            ]
          },
          "metadata": {}
        },
        {
          "output_type": "stream",
          "name": "stdout",
          "text": [
            "Saving iris.data to iris.data\n"
          ]
        }
      ]
    },
    {
      "cell_type": "markdown",
      "source": [],
      "metadata": {
        "id": "AY3hu-A-Xop8"
      }
    },
    {
      "cell_type": "code",
      "metadata": {
        "colab": {
          "base_uri": "https://localhost:8080/"
        },
        "id": "5P_H-XC63fi-",
        "outputId": "0d6a9f5c-7ad2-4129-dbea-258a7fe571fc"
      },
      "source": [
        "iris_file = io.BytesIO(uploaded['iris.data']) #the file is uploaded as a value in a dictionary, with the filename as the key\n",
        "iris_df = pd.read_csv(iris_file, header=None) #after getting the file to a format we can work with, we use pandas to read the data as a dataframe\n",
        "print(iris_df) #calling print allows us to view the dataframe"
      ],
      "execution_count": null,
      "outputs": [
        {
          "output_type": "stream",
          "name": "stdout",
          "text": [
            "       0    1    2    3               4\n",
            "0    5.1  3.5  1.4  0.2     Iris-setosa\n",
            "1    4.9  3.0  1.4  0.2     Iris-setosa\n",
            "2    4.7  3.2  1.3  0.2     Iris-setosa\n",
            "3    4.6  3.1  1.5  0.2     Iris-setosa\n",
            "4    5.0  3.6  1.4  0.2     Iris-setosa\n",
            "..   ...  ...  ...  ...             ...\n",
            "145  6.7  3.0  5.2  2.3  Iris-virginica\n",
            "146  6.3  2.5  5.0  1.9  Iris-virginica\n",
            "147  6.5  3.0  5.2  2.0  Iris-virginica\n",
            "148  6.2  3.4  5.4  2.3  Iris-virginica\n",
            "149  5.9  3.0  5.1  1.8  Iris-virginica\n",
            "\n",
            "[150 rows x 5 columns]\n"
          ]
        }
      ]
    },
    {
      "cell_type": "markdown",
      "metadata": {
        "id": "P38jC7vZ5r5c"
      },
      "source": [
        "The dataframe tells us some useful information about the iris dataset we have just downloaded. For example, we can see that there are 5 columns (4 features and 1 label) and 150 rows (as there is no header, this means there are 150 examples in our datset).\n",
        "\n",
        "Storing data in dataframes is really useful, as dataframes have some inbuilt functionality to help you deal with missing values. For this exercise we will convert the dataframe to an array to make things clear."
      ]
    },
    {
      "cell_type": "code",
      "metadata": {
        "id": "s7BZbdL45lZP"
      },
      "source": [
        "import numpy as np #import numpy to enable array functionality\n",
        "\n",
        "x = iris_df[[0,1,2,3]].to_numpy() #next we convert the feature columns into a numpy array\n",
        "y = iris_df[[4]].to_numpy() #swiftly followed by the label column - and our dataset is now ready\n",
        "#print(x) #feel free to uncomment and check the output\n",
        "#print(y)"
      ],
      "execution_count": null,
      "outputs": []
    },
    {
      "cell_type": "markdown",
      "metadata": {
        "id": "zDEYLDt_n9fU"
      },
      "source": [
        "####Task 2.2 - Implementing kNN in sci-kit learn\n",
        "\n",
        "Now that we have our datset, we can implement a kNN using sci-kit learn library: https://scikit-learn.org/stable/modules/generated/sklearn.neighbors.KNeighborsClassifier.html\n",
        "\n",
        "Our implementation wilol be similar to what we saw in the introduction week, but now we should have a better understanding of the parameters."
      ]
    },
    {
      "cell_type": "code",
      "metadata": {
        "colab": {
          "base_uri": "https://localhost:8080/"
        },
        "id": "aN5ub5pDsFJY",
        "outputId": "f5f352a5-5575-46bb-d1d3-17ef1a0a5f03"
      },
      "source": [
        "from sklearn.model_selection import StratifiedKFold #cross fold is sometimes called k-fold. Calling the stratified version ensures that classes have equal representation across folds\n",
        "from sklearn.neighbors import KNeighborsClassifier #importing the knn model\n",
        "from sklearn.metrics import accuracy_score #import an accuracy metric to tell us how well the model is doing\n",
        "\n",
        "acc_score = [] #create a list to store the accuracy values\n",
        "\n",
        "kf = StratifiedKFold(n_splits=5) #we instantiate the kfold instance, and set the number of folds to 5\n",
        "for train, test in kf.split(x,y): #we use a for loop to iterate through each fold using the train and test indexes from the dataset\n",
        "\n",
        "  model = KNeighborsClassifier(n_neighbors=3, metric=\"cosine\", weights=\"uniform\") #instantiate the model\n",
        "  x_train, x_test, y_train, y_test = x[train], x[test], y[train], y[test] #things can get a bit weird when inputting indexes to functions, so lets save them as variables\n",
        "\n",
        "  model.fit(x_train, y_train) #we then only fit the training data\n",
        "  predictions = model.predict(x_test) #and can predict on the test data\n",
        "  acc = accuracy_score(predictions, y_test) #we use the accuracy score we imported to give an idea how well the model is doing\n",
        "  acc_score.append(acc) #we can append it to our list\n",
        "\n",
        "print(acc_score) #wowza, looks ike it's pretty good!\n"
      ],
      "execution_count": null,
      "outputs": [
        {
          "output_type": "stream",
          "name": "stdout",
          "text": [
            "[1.0, 1.0, 0.9666666666666667, 0.9333333333333333, 1.0]\n"
          ]
        },
        {
          "output_type": "stream",
          "name": "stderr",
          "text": [
            "/usr/local/lib/python3.10/dist-packages/sklearn/neighbors/_classification.py:233: DataConversionWarning: A column-vector y was passed when a 1d array was expected. Please change the shape of y to (n_samples,), for example using ravel().\n",
            "  return self._fit(X, y)\n",
            "/usr/local/lib/python3.10/dist-packages/sklearn/neighbors/_classification.py:233: DataConversionWarning: A column-vector y was passed when a 1d array was expected. Please change the shape of y to (n_samples,), for example using ravel().\n",
            "  return self._fit(X, y)\n",
            "/usr/local/lib/python3.10/dist-packages/sklearn/neighbors/_classification.py:233: DataConversionWarning: A column-vector y was passed when a 1d array was expected. Please change the shape of y to (n_samples,), for example using ravel().\n",
            "  return self._fit(X, y)\n",
            "/usr/local/lib/python3.10/dist-packages/sklearn/neighbors/_classification.py:233: DataConversionWarning: A column-vector y was passed when a 1d array was expected. Please change the shape of y to (n_samples,), for example using ravel().\n",
            "  return self._fit(X, y)\n",
            "/usr/local/lib/python3.10/dist-packages/sklearn/neighbors/_classification.py:233: DataConversionWarning: A column-vector y was passed when a 1d array was expected. Please change the shape of y to (n_samples,), for example using ravel().\n",
            "  return self._fit(X, y)\n"
          ]
        }
      ]
    },
    {
      "cell_type": "markdown",
      "metadata": {
        "id": "BipvAJHKwlHQ"
      },
      "source": [
        "\n",
        "\n",
        "---\n",
        "\n",
        "\n",
        "###Task 3 - Try it Out\n",
        "\n",
        "<br>\n",
        "\n",
        "Now that you have had an opportunity to see kNN at work, the time has come to try it out yourself!\n",
        "\n",
        "<br>\n",
        "\n",
        "####Task 3.1 - Implement on Wine Dataset\n",
        "Start off by trying out what you have learned on the digits dataset. The dataset is available at: https://archive.ics.uci.edu/ml/datasets/wine"
      ]
    },
    {
      "cell_type": "code",
      "metadata": {
        "id": "V8mjDHO3xQI6"
      },
      "source": [
        "#Type your code for Task 3.1 here"
      ],
      "execution_count": null,
      "outputs": []
    },
    {
      "cell_type": "markdown",
      "metadata": {
        "id": "9AHUAIQQxTo7"
      },
      "source": [
        "####Task 3.2 - Experimenting with Wine\n",
        "\n",
        "Now that you have implemented the original kNN code on the Wine dataset, why not try out some changes. Specifically:\n",
        "\n",
        "*   What happens if you increase the number of neighbours?\n",
        "\n",
        "*   What happens if you change the distance metric?\n",
        "\n",
        "*   What happens if you increase the number of neighbours and add distance weighting in to the equation?\n",
        "\n",
        "\n",
        "Feel free to modify the above code, or add another cell below. Consider using the Gridsearch introduced in the introduction week to combine these tasks and find a strong parameter set.\n"
      ]
    }
  ]
}